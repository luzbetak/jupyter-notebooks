{
 "cells": [
  {
   "cell_type": "code",
   "execution_count": 1,
   "id": "5feb9092",
   "metadata": {},
   "outputs": [],
   "source": [
    "import pyspark\n",
    "sc.setLogLevel(\"ERROR\")"
   ]
  },
  {
   "cell_type": "markdown",
   "id": "4a60a9db",
   "metadata": {},
   "source": [
    "Convert Date from 1901-12-25 to 12/25/1901 "
   ]
  },
  {
   "cell_type": "code",
   "execution_count": 2,
   "id": "a26e5afd",
   "metadata": {},
   "outputs": [
    {
     "name": "stdout",
     "output_type": "stream",
     "text": [
      "-RECORD 0---------\n",
      " DOB | 12/25/1901 \n",
      "\n"
     ]
    }
   ],
   "source": [
    "spark.sql(\"\"\"\n",
    "SELECT \n",
    "    DATE_FORMAT(\n",
    "        CAST(TO_DATE(CAST(\"1901-12-25\" AS DATE), 'yyyy-MM-dd') AS DATE), 'MM/dd/yyyy'\n",
    "    ) AS DOB\n",
    "\"\"\").show(10, vertical=True, truncate=False)"
   ]
  },
  {
   "cell_type": "code",
   "execution_count": null,
   "id": "44618d1a",
   "metadata": {},
   "outputs": [],
   "source": []
  }
 ],
 "metadata": {
  "kernelspec": {
   "display_name": "Python 3",
   "language": "python",
   "name": "python3"
  },
  "language_info": {
   "codemirror_mode": {
    "name": "ipython",
    "version": 3
   },
   "file_extension": ".py",
   "mimetype": "text/x-python",
   "name": "python",
   "nbconvert_exporter": "python",
   "pygments_lexer": "ipython3",
   "version": "3.9.5"
  }
 },
 "nbformat": 4,
 "nbformat_minor": 5
}
