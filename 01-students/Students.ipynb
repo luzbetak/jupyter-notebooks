{
 "cells": [
  {
   "cell_type": "code",
   "execution_count": 1,
   "metadata": {},
   "outputs": [],
   "source": [
    "import pyspark\n",
    "# sc.setLogLevel(\"ERROR\")"
   ]
  },
  {
   "cell_type": "code",
   "execution_count": 2,
   "metadata": {},
   "outputs": [
    {
     "name": "stdout",
     "output_type": "stream",
     "text": [
      "<class 'pyspark.sql.dataframe.DataFrame'>\n"
     ]
    }
   ],
   "source": [
    "df = spark.read.csv('students.csv', header='true')\n",
    "print(type(df))"
   ]
  },
  {
   "cell_type": "code",
   "execution_count": 3,
   "metadata": {},
   "outputs": [
    {
     "name": "stdout",
     "output_type": "stream",
     "text": [
      "root\n",
      " |-- id: string (nullable = true)\n",
      " |-- first_name: string (nullable = true)\n",
      " |-- last_name: string (nullable = true)\n",
      " |-- date_of_birth: string (nullable = true)\n",
      " |-- ethnicity: string (nullable = true)\n",
      " |-- gender: string (nullable = true)\n",
      " |-- status: string (nullable = true)\n",
      " |-- entry_academic_period: string (nullable = true)\n",
      " |-- exclusion_type: string (nullable = true)\n",
      " |-- act_composite: string (nullable = true)\n",
      " |-- act_math: string (nullable = true)\n",
      " |-- act_english: string (nullable = true)\n",
      " |-- act_reading: string (nullable = true)\n",
      " |-- sat_combined: string (nullable = true)\n",
      " |-- sat_math: string (nullable = true)\n",
      " |-- sat_verbal: string (nullable = true)\n",
      " |-- sat_reading: string (nullable = true)\n",
      " |-- hs_gpa: string (nullable = true)\n",
      " |-- hs_city: string (nullable = true)\n",
      " |-- hs_state: string (nullable = true)\n",
      " |-- hs_zip: string (nullable = true)\n",
      " |-- email: string (nullable = true)\n",
      " |-- entry_age: string (nullable = true)\n",
      " |-- ged: string (nullable = true)\n",
      " |-- english_2nd_language: string (nullable = true)\n",
      " |-- first_generation: string (nullable = true)\n",
      "\n"
     ]
    }
   ],
   "source": [
    "df.printSchema()"
   ]
  },
  {
   "cell_type": "code",
   "execution_count": 4,
   "metadata": {},
   "outputs": [],
   "source": [
    "df.createOrReplaceTempView(\"students\")"
   ]
  },
  {
   "cell_type": "code",
   "execution_count": 5,
   "metadata": {},
   "outputs": [
    {
     "name": "stdout",
     "output_type": "stream",
     "text": [
      "+----------------------+-----+\n",
      "|ethnicity             |total|\n",
      "+----------------------+-----+\n",
      "|Hispanic              |4    |\n",
      "|White                 |3    |\n",
      "|Race/ethnicity unknown|1    |\n",
      "|Asian                 |1    |\n",
      "+----------------------+-----+\n",
      "\n"
     ]
    }
   ],
   "source": [
    "SQL = \"\"\"\n",
    "SELECT ethnicity, count(ethnicity) as total \n",
    "FROM students \n",
    "GROUP BY ethnicity \n",
    "ORDER BY total DESC\n",
    "\"\"\"\n",
    "\n",
    "df1 = spark.sql(SQL)\n",
    "df1.show(10, False)"
   ]
  },
  {
   "cell_type": "code",
   "execution_count": 6,
   "metadata": {},
   "outputs": [
    {
     "name": "stdout",
     "output_type": "stream",
     "text": [
      "+----------+---------+---------------------+\n",
      "|first_name|last_name|entry_academic_period|\n",
      "+----------+---------+---------------------+\n",
      "|John      |Doe      |Fall 2008            |\n",
      "|Jane      |Smith    |Fall 2006            |\n",
      "|Sarah     |Thomas   |Fall 2006            |\n",
      "|Frank     |Brown    |Fall 2006            |\n",
      "|Mike      |Davis    |Fall 2007            |\n",
      "|Jennifer  |Wilson   |Fall 2006            |\n",
      "|Jessica   |Garcia   |Fall 2007            |\n",
      "|Fred      |Clark    |Fall 2010            |\n",
      "|Bob       |Lopez    |Fall 2007            |\n",
      "+----------+---------+---------------------+\n",
      "\n"
     ]
    }
   ],
   "source": [
    "SQL = \"\"\"\n",
    "SELECT first_name, last_name, entry_academic_period\n",
    "FROM students \n",
    "\"\"\"\n",
    "\n",
    "df2 = spark.sql(SQL)\n",
    "df2.show(10, False)"
   ]
  },
  {
   "cell_type": "code",
   "execution_count": null,
   "metadata": {},
   "outputs": [],
   "source": []
  }
 ],
 "metadata": {
  "kernelspec": {
   "display_name": "Python 3",
   "language": "python",
   "name": "python3"
  },
  "language_info": {
   "codemirror_mode": {
    "name": "ipython",
    "version": 3
   },
   "file_extension": ".py",
   "mimetype": "text/x-python",
   "name": "python",
   "nbconvert_exporter": "python",
   "pygments_lexer": "ipython3",
   "version": "3.9.4"
  }
 },
 "nbformat": 4,
 "nbformat_minor": 4
}
