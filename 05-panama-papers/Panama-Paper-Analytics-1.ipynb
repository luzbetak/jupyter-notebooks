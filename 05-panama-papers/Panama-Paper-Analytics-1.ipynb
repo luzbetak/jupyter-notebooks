{
 "cells": [
  {
   "cell_type": "code",
   "execution_count": 1,
   "metadata": {},
   "outputs": [],
   "source": [
    "import pyspark"
   ]
  },
  {
   "cell_type": "code",
   "execution_count": 2,
   "metadata": {},
   "outputs": [],
   "source": [
    "df = spark.read.csv('Addresses.csv', header='true')"
   ]
  },
  {
   "cell_type": "code",
   "execution_count": 3,
   "metadata": {},
   "outputs": [
    {
     "name": "stdout",
     "output_type": "stream",
     "text": [
      "root\n",
      " |-- address: string (nullable = true)\n",
      " |-- icij_id: string (nullable = true)\n",
      " |-- valid_until: string (nullable = true)\n",
      " |-- country_codes: string (nullable = true)\n",
      " |-- countries: string (nullable = true)\n",
      " |-- node_id: string (nullable = true)\n",
      " |-- sourceID: string (nullable = true)\n",
      "\n"
     ]
    }
   ],
   "source": [
    "df.printSchema()"
   ]
  },
  {
   "cell_type": "code",
   "execution_count": 4,
   "metadata": {},
   "outputs": [],
   "source": [
    "df.createOrReplaceTempView(\"address_table\")"
   ]
  },
  {
   "cell_type": "code",
   "execution_count": 14,
   "metadata": {},
   "outputs": [
    {
     "name": "stdout",
     "output_type": "stream",
     "text": [
      "+----------------------------------------------------------------+-------------+\n",
      "|address                                                         |countries    |\n",
      "+----------------------------------------------------------------+-------------+\n",
      "|2138 Holmby Avenue Los Angeles, CA 90025 USA                    |United States|\n",
      "|2062 Dracena Dr. #10 Los Angeles, CA 90027 USA                  |United States|\n",
      "|3210 Sawtelle Blvd #104 Los Angeles, CA 90066 USA               |United States|\n",
      "|13209 W. Sunset Blvd Los Angeles CA 90049                       |United States|\n",
      "|10341 Bannockburn Drive Los Angeles, CA 90064                   |United States|\n",
      "|Room 2250, 10880 Wilshire Blvd, Los Angeles,CA 90024, U.S.A.    |United States|\n",
      "|12309 W. Sunset Blvd Los Angeles CA 90049                       |United States|\n",
      "|8001 Highland Trail Los Angeles, CA 90046 USA                   |United States|\n",
      "|63 Freemont Place Los Angeles, Ca 90005 USA                     |United States|\n",
      "|2049 Century Park East Suite 3110 Los Angeles, CA 90067-3274 USA|United States|\n",
      "+----------------------------------------------------------------+-------------+\n",
      "only showing top 10 rows\n",
      "\n"
     ]
    }
   ],
   "source": [
    "SQL = \"\"\"\n",
    "SELECT address, countries\n",
    "FROM address_table\n",
    "WHERE address LIKE '%Los Angeles%'\n",
    "\"\"\"\n",
    "\n",
    "df1 = spark.sql(SQL)\n",
    "df1.show(10, False)"
   ]
  },
  {
   "cell_type": "code",
   "execution_count": null,
   "metadata": {},
   "outputs": [],
   "source": []
  }
 ],
 "metadata": {
  "kernelspec": {
   "display_name": "Python 3",
   "language": "python",
   "name": "python3"
  },
  "language_info": {
   "codemirror_mode": {
    "name": "ipython",
    "version": 3
   },
   "file_extension": ".py",
   "mimetype": "text/x-python",
   "name": "python",
   "nbconvert_exporter": "python",
   "pygments_lexer": "ipython3",
   "version": "3.7.3"
  }
 },
 "nbformat": 4,
 "nbformat_minor": 4
}
