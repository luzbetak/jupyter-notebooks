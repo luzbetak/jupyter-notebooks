{
 "cells": [
  {
   "cell_type": "code",
   "execution_count": null,
   "metadata": {},
   "outputs": [],
   "source": [
    "# !python3 -m pip -y uninstall jupyterthemes\n",
    "# !python3 -m pip install --upgrade jupyterthemes\n",
    "from IPython.core.display import display, HTML\n",
    "display(HTML(\"\"\"<style> .container { width:100% !important; } .dataframe { white-space: nowrap; } </style>\"\"\"))"
   ]
  },
  {
   "cell_type": "code",
   "execution_count": 2,
   "metadata": {},
   "outputs": [],
   "source": [
    "import pyspark"
   ]
  },
  {
   "cell_type": "code",
   "execution_count": 3,
   "metadata": {},
   "outputs": [],
   "source": [
    "df1 = spark.read.csv('Officers.csv', header='true')\n",
    "df2 = spark.read.csv('Addresses.csv', header='true')\n",
    "df3 = spark.read.csv('Entities.csv', header='true')"
   ]
  },
  {
   "cell_type": "code",
   "execution_count": 4,
   "metadata": {},
   "outputs": [
    {
     "name": "stdout",
     "output_type": "stream",
     "text": [
      "root\n",
      " |-- name: string (nullable = true)\n",
      " |-- icij_id: string (nullable = true)\n",
      " |-- valid_until: string (nullable = true)\n",
      " |-- country_codes: string (nullable = true)\n",
      " |-- countries: string (nullable = true)\n",
      " |-- node_id: string (nullable = true)\n",
      " |-- sourceID: string (nullable = true)\n",
      "\n",
      "root\n",
      " |-- address: string (nullable = true)\n",
      " |-- icij_id: string (nullable = true)\n",
      " |-- valid_until: string (nullable = true)\n",
      " |-- country_codes: string (nullable = true)\n",
      " |-- countries: string (nullable = true)\n",
      " |-- node_id: string (nullable = true)\n",
      " |-- sourceID: string (nullable = true)\n",
      "\n",
      "root\n",
      " |-- name: string (nullable = true)\n",
      " |-- original_name: string (nullable = true)\n",
      " |-- former_name: string (nullable = true)\n",
      " |-- jurisdiction: string (nullable = true)\n",
      " |-- jurisdiction_description: string (nullable = true)\n",
      " |-- company_type: string (nullable = true)\n",
      " |-- address: string (nullable = true)\n",
      " |-- internal_id: string (nullable = true)\n",
      " |-- incorporation_date: string (nullable = true)\n",
      " |-- inactivation_date: string (nullable = true)\n",
      " |-- struck_off_date: string (nullable = true)\n",
      " |-- dorm_date: string (nullable = true)\n",
      " |-- status: string (nullable = true)\n",
      " |-- service_provider: string (nullable = true)\n",
      " |-- ibcRUC: string (nullable = true)\n",
      " |-- country_codes: string (nullable = true)\n",
      " |-- countries: string (nullable = true)\n",
      " |-- note: string (nullable = true)\n",
      " |-- valid_until: string (nullable = true)\n",
      " |-- node_id: string (nullable = true)\n",
      " |-- sourceID: string (nullable = true)\n",
      "\n"
     ]
    }
   ],
   "source": [
    "df1.printSchema()\n",
    "df2.printSchema()\n",
    "df3.printSchema()"
   ]
  },
  {
   "cell_type": "code",
   "execution_count": 5,
   "metadata": {},
   "outputs": [],
   "source": [
    "df1.createOrReplaceTempView(\"officer_table\")\n",
    "df2.createOrReplaceTempView(\"address_table\")\n",
    "df3.createOrReplaceTempView(\"entity_table\")"
   ]
  },
  {
   "cell_type": "code",
   "execution_count": 6,
   "metadata": {},
   "outputs": [],
   "source": [
    "# SQL = \"\"\"\n",
    "# SELECT name, countries, node_id\n",
    "# FROM officer_table\n",
    "# WHERE countries = 'United States'\n",
    "# \"\"\"\n",
    "\n",
    "# df1 = spark.sql(SQL)\n",
    "# df1.show(10, False)"
   ]
  },
  {
   "cell_type": "code",
   "execution_count": 7,
   "metadata": {},
   "outputs": [],
   "source": [
    "# SQL = \"\"\"\n",
    "# SELECT a.name, b.address, b.countries\n",
    "# FROM officer_table a JOIN address_table b\n",
    "# ON a.node_id = b.node_id\n",
    "# \"\"\"\n",
    "\n",
    "# df2 = spark.sql(SQL)\n",
    "# df2.show(100, False)"
   ]
  },
  {
   "cell_type": "code",
   "execution_count": 18,
   "metadata": {},
   "outputs": [
    {
     "name": "stdout",
     "output_type": "stream",
     "text": [
      "+----------------------------------------+------------------------------------------------------------------------------------------------------------------------------------------------------------+\n",
      "|name                                    |address                                                                                                                                                     |\n",
      "+----------------------------------------+------------------------------------------------------------------------------------------------------------------------------------------------------------+\n",
      "|Scott D. Howard                         |Scott D. Howard P.O. Box 811 Brunswick ME 04011-081 USA                                                                                                     |\n",
      "|Julius J. Grodski                       |Julius J. Grodski 3814 N. Richmond St. Arlington, VA 22207 USA                                                                                              |\n",
      "|Pacific Financial Limited               |Diane S. Arnold c/o Corporate Breakthroughs 32031 Point Place Laguna Beach, CA 92651 USA                                                                    |\n",
      "|Bayshore Systems Limited                |Daniel Beharry Chardan Ventures, LLC Pacific Executive Plaza 777 South Highway 101 Solana Beach, CA 92075 USA                                               |\n",
      "|David Glossinger                        |David Glossinger 119 E. Court St. Cincinnati, OH 45202-1203 USA                                                                                             |\n",
      "|Zerin Ltd.                              |Dennis Bates 1222 W 160 North Orem, UT  84057 USA                                                                                                           |\n",
      "|Company Code Issued In Error            |Alfonso Rizo-Patron 14 Orchid Hill Road Canton, CT 06019-2129 USA                                                                                           |\n",
      "|Michael J. Hogan                        |Michael J. Hogan P.O. Box 512 Rocky Hill, CT 06067 USA                                                                                                      |\n",
      "|BRACKEN SECURITIES LIMITED              |Portcullis TrustNet Chambers P.O. Box 3444 Road Town, Tortola BRITISH VIRGIN ISLANDS;c/- Savant & Associates PO Box 549 Key Largo, FL 33037 USA Ph: REDACTED|\n",
      "|Pormat Industries Limited               |Portcullis TrustNet Chambers P.O. Box 3444 Road Town, Tortola BRITISH VIRGIN ISLANDS;8906 E. 96th St. #226 Fishers, IN 46037 U.S.A.                         |\n",
      "|Geneva Capital Partners Limited         |Portcullis TrustNet Chambers P.O. Box 3444 Road Town, Tortola BRITISH VIRGIN ISLANDS;8906 E. 96th St. #226 Fishers, IN 46037 U.S.A.                         |\n",
      "|Vencom Industries Limited               |Portcullis TrustNet Chambers P.O. Box 3444 Road Town, Tortola BRITISH VIRGIN ISLANDS;8906 E. 96th St. #226 Fishers, IN                                      |\n",
      "|SPINCO, INC.                            |Portcullis TrustNet Chambers P.O. Box 3444 Road Town, Tortola BRITISH VIRGIN ISLANDS;P.O. Box 1445 Wilmington California 90748-1445                         |\n",
      "|Zurich Capital Partners Limited         |Portcullis TrustNet Chambers P.O. Box 3444 Road Town, Tortola BRITISH VIRGIN ISLANDS;8906 E. 96th St. #226 Fishers, IN 46037 U.S.A.                         |\n",
      "|AUM GAVS Holding Corp.                  |Portcullis TrustNet Chambers P.O. Box 3444 Road Town, Tortola British Virgin Islands;1455 Dixon Avenue, Suite 140 Lafayette Colorado 80026 USA              |\n",
      "|Magnolia International Trust            |102 Woodmont Way Ridgeland, MS 39157-8618 U.S.A.                                                                                                            |\n",
      "|Juno Trust                              |801 South Figueroa 14th Floor Los Angeles, CA 90017-5554 U.S.A.                                                                                             |\n",
      "|Hycarbex American Energy LLC            |null                                                                                                                                                        |\n",
      "|Tai Investment Trust                    |8362 West Third Street Suite A Los Angeles, CA 90048 U.S.A.                                                                                                 |\n",
      "|Yellowstone Trust                       |357 Stillwater Circle Idaho Falls ID 83404 U.S.A>                                                                                                           |\n",
      "|Laksmi Trust                            |3rd Floor, BCI Building P.O. Box 208 Avarua, Rarotonga COOK ISLANDS;300 Kidani Law Center 233 Merchant Street Honolulu, HI 96813-2995 HAWAII                |\n",
      "|Balina, Inc                             |Worldwide Plaza 825 Eighth Avenue New York, NY 10019-7416 U.S.A.                                                                                            |\n",
      "|Ahmad Trust                             |P.O. Box 1611 Union, NJ 07083 U.S.A.                                                                                                                        |\n",
      "|Plaid Trust                             |Email: REDACTED cc: REDACTED State Street Boston, Massachusetts 02109 U.S.A.                                                                                |\n",
      "|Goodway International Group Inc.        |null                                                                                                                                                        |\n",
      "|Delta Two Trust                         |15433 N. Tatum Blvd STE. 104 Phoenix, AZ 85032 U.S.A.                                                                                                       |\n",
      "|The Homeland Trust                      |3508 Alana Drive Sherman Oaks, CA 91403 USA Ph: REDACTED x 3210 - wk Ph: REDACTED - hm Email: REDACTED                                                      |\n",
      "|Foster Family Trust                     |96 Pierrpont Street Brooklyn, NY 11201 New York U.S.A.                                                                                                      |\n",
      "|Thomas J. Fagan                         |Thomas J. Fagan 830 Nottingham Dr. Naples, FL. 34109 USA                                                                                                    |\n",
      "|WEB CAM DREAMS, LTD.                    |4542 - 246th CT SE Issaquah, WA 98029 U.S.A.                                                                                                                |\n",
      "|GB1 Ltd.                                |Salvador Sala P.O. Box 522453 Miami, FL   33152 USA                                                                                                         |\n",
      "|The May Family Trust                    |6625 Woolridge #42 Corpus Christi, TX 78414 U.S.A.                                                                                                          |\n",
      "|Aldado Ltd.                             |Daniel F. Adams 2180 West First Street Suite 212 Fort Myers, FL 33901 USA                                                                                   |\n",
      "|21 Wall Street, Ltd.                    |Daniel Beharry Chardan Ventures, LLC Pacific Executive Plaza 777 South Highway 101 Solana Beach, CA 92075 USA                                               |\n",
      "|John E. Deans                           |John E. Deans 212 New London Turnpike Suite D Glastonbury, CT 06033 USA                                                                                     |\n",
      "|Warwick Hill Limited                    |Jane Corrigan 1315 Cottontail Lane La Jolla, CA   92037 USA                                                                                                 |\n",
      "|Patrick LeBlanc                         |Patrick LeBlanc c/o The LeBlanc Group PERSONAL AND CONFIDENTIAL 147 Easy Street Lafayette, LA   70506 USA                                                   |\n",
      "|Pac Tel Yellow Page Services, Inc.      |3540 West Sahara Boulevard Suite 82 Las Vegas, NV  89102 U.S.A.                                                                                             |\n",
      "|BB Holding Caribbean Ltd.               |Corporate Creations International Inc. 11380 Prosperity Farms Road, #221E Palm Beach Gardens, FL 33410 USA RT BVI                                           |\n",
      "|Azores International Management Ltd.    |Juris Magister 1390 Brickell Avenue Suite 200 Miami, FL  33131 USA RT BVI                                                                                   |\n",
      "|F.C. Holding Limited                    |Westglobe Corporate Services 2929 Windstone Court Bedford, Texas 76021 U.S.A. RT BVI                                                                        |\n",
      "|The Greek Isle Trust                    |9121 Loma Street Villa Park, CA 92861 U.S.A.                                                                                                                |\n",
      "|Grove Investment Holdings Limited       |International Business Company Formation Inc. 101 Main Street Suite One Tappan, New York  10983 USA RT BVI                                                  |\n",
      "|Matta Trust                             |Worldwide Plaza 825 Eighth Avenue New York, NY 10019-7416 U.S.A.                                                                                            |\n",
      "|Duplex International Ltd.               |Juris Magister 1390 Brickell Avenue Suite 200 Miami, FL  33131 USA RT BVI                                                                                   |\n",
      "|Alibeylil Ltd.                          |Corporate Creations International Inc. 11380 Prosperity Farms Road, #221E Palm Beach Gardens, FL 33410 USA RT BVI                                           |\n",
      "|MALEK EL-SAYED LAW AND CONSULTATION Inc.|Rama Consulting 14408 Chantilly Crossing Lane #122 Chantilly, VA 20151                                                                                      |\n",
      "|Practical Strategies Ltd.               |American Corporate Services, Inc. 2076 16th Avenue Suite A San Francisco, CA  94116-1238 USA RT BVI                                                         |\n",
      "|Hemstead Capital Limited                |Westglobe Corporate Services 2929 Windstone Court Bedford, Texas 76021 U.S.A. RT BVI                                                                        |\n",
      "|Sea Eagle Holdings Ltd.                 |Michael LeBlanc 4024 Woodlake Baton Rouge, LA  70816 USA                                                                                                    |\n",
      "|Equities International Limited          |Michael LeBlanc 4024 Woodlake Baton Rouge, LA  70816 USA                                                                                                    |\n",
      "|Poplar Bluff Limited                    |Patrick LeBlanc c/o The LeBlanc Group PERSONAL AND CONFIDENTIAL 147 Easy Street Lafayette, LA   70506 USA                                                   |\n",
      "|Fava Ltd.                               |Ed Simon 5871 North University Drive Suite 400 Tamarac, FL USA 33321                                                                                        |\n",
      "|Nike International Trading Ltd.         |Juris Magister 1390 Brickell Avenue Suite 200 Miami, FL  33131 USA RT BVI                                                                                   |\n",
      "|Venus Lines Limited                     |Juris Magister 1390 Brickell Avenue Suite 200 Miami, FL  33131 USA RT BVI                                                                                   |\n",
      "|OPECO Vietnam Ltd                       |Attorneys at Law 3104 Edloe Street, Suite 204 Houston, Texas 77027 U.S.A.                                                                                   |\n",
      "|Samana Business Inc.                    |American Corporate Services, Inc. 2076 16th Avenue Suite A San Francisco, CA  94116-1238 USA RT BVI                                                         |\n",
      "|Investcom Marketing, Inc.               |American Corporate Services, Inc. 2076 16th Avenue Suite A San Francisco, CA  94116-1238 USA RT BVI                                                         |\n",
      "|Bretton Management Group Corp.          |American Corporate Services, Inc. 2076 16th Avenue Suite A San Francisco, CA  94116-1238 USA RT BVI                                                         |\n",
      "|AKOS Association Limited                |American Corporate Services, Inc. 2076 16th Avenue Suite A San Francisco, CA  94116-1238 USA RT BVI                                                         |\n",
      "|NET HOLDINGS, LTD.                      |1001 Fourth Avenue Plaza Suite 3200 Seattle, WA 98154 U.S.A.                                                                                                |\n",
      "|Chestnut Tree Management Group Ltd.     |Rick Maduro c/o Rick Maduro, Walter UCS Investments 505 Fosters Mill Lane Suwanee, GA 30024 USA RT BVI                                                      |\n",
      "|Iwc Holdings Group, Ltd.                |Corporate Creations International Inc. 11380 Prosperity Farms Road, #221E Palm Beach Gardens, FL 33410 USA RT BVI                                           |\n",
      "|Neptune Development Trust               |3rd Floor, BCI Building P.O. Box 208 Avarua, Rarotonga COOK ISLANDS;PO BOX 100 PMB 304 Mammoth Lakes, CA 93546 U.S.A.                                       |\n",
      "|PT Trust                                |3rd Floor, BCI Building P.O. Box 208 Avarua, Rarotonga COOK ISLANDS;1367 Panini Drive Henderson, NV 89052 USA                                               |\n",
      "|Norvell Finance Ltd.                    |Corporate Solutions Inc. Corporate Solutions LLC 520 Brickell Key Dr   Ste 1403 Miami, Fl  33131 USA RT BVI                                                 |\n",
      "|D.W. Fisher Family Trust                |11 Edmands Road Room 309, Framingham Massachusetts 01701 MA 01701 U.S.A.                                                                                    |\n",
      "|Dazless Commercial Inc.                 |American Corporate Services, Inc. 2076 16th Avenue Suite A San Francisco, CA  94116-1238 USA RT BVI                                                         |\n",
      "|VFC Development Corporation             |Corporation Service Company 2711 Centerville Road Wilmington, DE 19808 RT BVI                                                                               |\n",
      "|La Roca Investment Group, Inc.          |Companies Incorporated 28015 Smyth Drive Valencia CA 91355 USA RT BVI                                                                                       |\n",
      "|Central Outdoor Inc.                    |Westglobe Corporate Services 2929 Windstone Court Bedford, Texas 76021 U.S.A. RT BVI                                                                        |\n",
      "|DeCom Corporation                       |American Corporate Services, Inc. 2076 16th Avenue Suite A San Francisco, CA  94116-1238 USA RT BVI                                                         |\n",
      "|Northwestern Financial Ltd.             |Julio Borges 799 Crandon Boulevard, Unit 1204 Key Biscayne, FL 33149                                                                                        |\n",
      "|Bepi Acquisition Corporation            |Westglobe Corporate Services 2929 Windstone Court Bedford, Texas 76021 U.S.A. RT BVI                                                                        |\n",
      "|Urbana LLC                              |Corporate Research LLC 119 East Court Street Cincinnati, OH 45202 USA RT BVI                                                                                |\n",
      "|Malberg & Castle International Ltd.     |Juris Magister 1390 Brickell Avenue Suite 200 Miami, FL  33131 USA RT BVI                                                                                   |\n",
      "|Star of the Sea Corp.                   |American Corporate Services, Inc. 2076 16th Avenue Suite A San Francisco, CA  94116-1238 USA RT BVI                                                         |\n",
      "|Vigee Trust                             |Worldwide Plaza 825 Eighth Avenue New York, NY 10019-7416 U.S.A.                                                                                            |\n",
      "|Avison International Limited            |Companies Incorporated 28015 Smyth Drive Valencia CA 91355 USA RT BVI                                                                                       |\n",
      "|International General Trade Corp.       |International Business Company Formation Inc. 101 Main Street Suite One Tappan, New York  10983 USA RT BVI                                                  |\n",
      "|Sperry Management Limited               |American Corporate Services, Inc. 2076 16th Avenue Suite A San Francisco, CA  94116-1238 USA RT BVI                                                         |\n",
      "|Coverbridge Ltd.                        |Alvaro B. Castillo, P.A. 1390 Brickell Avenue Suite 200 Miami, FL 33131 RT BVI                                                                              |\n",
      "|Redcliffe Property Holdings Limited     |North American Business Corp. 2929 Windstone Court Bedford, Texas, 76021-2864 USA                                                                           |\n",
      "|Details temporarily withheld            |9147 Arcadia Avenue San Gabriel, CA  91775 UNITED STATES OF AMERICA                                                                                         |\n",
      "|Museum Consulting Services, Inc.        |Companies Incorporated 28015 Smyth Drive Valencia CA 91355 USA RT BVI                                                                                       |\n",
      "|AVI World Corp.                         |Corporate Creations International Inc. 11380 Prosperity Farms Road, #221E Palm Beach Gardens, FL 33410 USA RT BVI                                           |\n",
      "|International Holdings Investment Ltd.  |North American Business Corp. 2929 Windstone Court Bedford, Texas, 76021-2864 USA                                                                           |\n",
      "|H.B.M. Holdings Ltd.                    |Westglobe Corporate Services 2929 Windstone Court Bedford, Texas 76021 U.S.A. RT BVI                                                                        |\n",
      "|Garza Limited                           |Juris Magister 1390 Brickell Avenue Suite 200 Miami, FL  33131 USA RT BVI                                                                                   |\n",
      "|Webcontrol Limited                      |International Business Company Formation Inc. 101 Main Street Suite One Tappan, New York  10983 USA RT BVI                                                  |\n",
      "|Punta Clara Holdings Ltd.               |Corporate Creations International Inc. 11380 Prosperity Farms Road, #221E Palm Beach Gardens, FL 33410 USA RT BVI                                           |\n",
      "|CALICO GROUP LTD                        |Worldwide Management & Consulting 1200 Brickell Avenue Suite 1950 Miami, FL 33131 USA RT BVI                                                                |\n",
      "|Lahoya International S.A.               |International Business Company Formation Inc. 101 Main Street Suite One Tappan, New York  10983 USA RT BVI                                                  |\n",
      "|The EAZ Trust                           |111 John Street, Suite 800 New York, NY 10038 U.S.A.                                                                                                        |\n",
      "|Ebury Group Limited                     |Diane S. Arnold c/o Corporate Breakthroughs 32031 Point Place Laguna Beach, CA 92651 USA                                                                    |\n",
      "|Roger Huston                            |Roger Huston 601 Wichita Drive Lexington, KY 40503 USA                                                                                                      |\n",
      "|Marge Ewton                             |Marge Ewton Ewton Realty 11738 E. Canal Drive Aurora, CO 80011 USA                                                                                          |\n",
      "|DoMo Entertainment Corporation          |Corporate Solutions Inc. Corporate Solutions LLC 520 Brickell Key Dr   Ste 1403 Miami, Fl  33131 USA RT BVI                                                 |\n",
      "|Sigma Universal Group, Inc.             |American Corporate Services, Inc. 2076 16th Avenue Suite A San Francisco, CA  94116-1238 USA RT BVI                                                         |\n",
      "|Dolphin Union Group, Ltd.               |American Corporate Services, Inc. 2076 16th Avenue Suite A San Francisco, CA  94116-1238 USA RT BVI                                                         |\n",
      "+----------------------------------------+------------------------------------------------------------------------------------------------------------------------------------------------------------+\n",
      "only showing top 100 rows\n",
      "\n"
     ]
    }
   ],
   "source": [
    "SQL = \"\"\"\n",
    "SELECT name, address /*countries*/\n",
    "FROM entity_table\n",
    "WHERE countries LIKE '%United States%'\n",
    "\"\"\"\n",
    "\n",
    "df2 = spark.sql(SQL)\n",
    "df2.show(100, False)\n",
    "# display(df2)"
   ]
  },
  {
   "cell_type": "markdown",
   "metadata": {},
   "source": []
  }
 ],
 "metadata": {
  "kernelspec": {
   "display_name": "Python 3",
   "language": "python",
   "name": "python3"
  },
  "language_info": {
   "codemirror_mode": {
    "name": "ipython",
    "version": 3
   },
   "file_extension": ".py",
   "mimetype": "text/x-python",
   "name": "python",
   "nbconvert_exporter": "python",
   "pygments_lexer": "ipython3",
   "version": "3.7.3"
  }
 },
 "nbformat": 4,
 "nbformat_minor": 4
}
