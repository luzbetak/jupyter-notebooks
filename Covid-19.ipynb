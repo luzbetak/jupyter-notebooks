{
 "cells": [
  {
   "cell_type": "code",
   "execution_count": 1,
   "metadata": {},
   "outputs": [],
   "source": [
    "import pyspark"
   ]
  },
  {
   "cell_type": "code",
   "execution_count": 2,
   "metadata": {},
   "outputs": [],
   "source": [
    "df = spark.read.csv('*.csv', header='true')"
   ]
  },
  {
   "cell_type": "code",
   "execution_count": 3,
   "metadata": {},
   "outputs": [
    {
     "name": "stdout",
     "output_type": "stream",
     "text": [
      "root\n",
      " |-- Province_State: string (nullable = true)\n",
      " |-- Country_Region: string (nullable = true)\n",
      " |-- Last_Update: string (nullable = true)\n",
      " |-- Lat: string (nullable = true)\n",
      " |-- Long_: string (nullable = true)\n",
      " |-- Confirmed: string (nullable = true)\n",
      " |-- Deaths: string (nullable = true)\n",
      " |-- Recovered: string (nullable = true)\n",
      " |-- Active: string (nullable = true)\n",
      " |-- FIPS: string (nullable = true)\n",
      " |-- Incident_Rate: string (nullable = true)\n",
      " |-- People_Tested: string (nullable = true)\n",
      " |-- People_Hospitalized: string (nullable = true)\n",
      " |-- Mortality_Rate: string (nullable = true)\n",
      " |-- UID: string (nullable = true)\n",
      " |-- ISO3: string (nullable = true)\n",
      " |-- Testing_Rate: string (nullable = true)\n",
      " |-- Hospitalization_Rate: string (nullable = true)\n",
      "\n"
     ]
    }
   ],
   "source": [
    "df.printSchema()"
   ]
  },
  {
   "cell_type": "code",
   "execution_count": 4,
   "metadata": {},
   "outputs": [],
   "source": [
    "df.createOrReplaceTempView(\"covid\")"
   ]
  },
  {
   "cell_type": "code",
   "execution_count": 5,
   "metadata": {},
   "outputs": [
    {
     "name": "stdout",
     "output_type": "stream",
     "text": [
      "+--------------+---------------+------------------+------------+\n",
      "|Province_State|Total_Recovered|Total_Hospitalized|Total_Deaths|\n",
      "+--------------+---------------+------------------+------------+\n",
      "|New York      |71661          |131507            |30285       |\n",
      "|New Jersey    |null           |23570             |7598        |\n",
      "|California    |null           |13412             |2121        |\n",
      "|Illinois      |null           |11643             |2386        |\n",
      "|Michigan      |1332           |11532             |4849        |\n",
      "|Florida       |null           |8665              |1531        |\n",
      "|Georgia       |null           |7863              |1423        |\n",
      "|Massachusetts |null           |6915              |2444        |\n",
      "|Pennsylvania  |null           |6657              |1837        |\n",
      "|Louisiana     |null           |6195              |2737        |\n",
      "+--------------+---------------+------------------+------------+\n",
      "\n"
     ]
    }
   ],
   "source": [
    "SQL = \"\"\"\n",
    "SELECT Province_State\n",
    "          , CAST(SUM(Recovered) AS INT) Total_Recovered\n",
    "          , CAST(SUM(People_Hospitalized) AS INT) AS Total_Hospitalized\n",
    "          , CAST(SUM(Deaths) AS INT) AS Total_Deaths\n",
    "FROM covid \n",
    "WHERE Province_State != \"Recovered\"\n",
    "GROUP BY Province_State\n",
    "ORDER BY Total_Hospitalized DESC\n",
    "LIMIT 10\n",
    "\"\"\"\n",
    "\n",
    "df1 = spark.sql(SQL)\n",
    "df1.show(10, False)"
   ]
  },
  {
   "cell_type": "code",
   "execution_count": null,
   "metadata": {},
   "outputs": [],
   "source": [
    "SQL = \"\"\"\n",
    "SELECT     \n",
    "    CAST(\n",
    "          CAST(SUM(Deaths) * 100 AS INT ) /  \n",
    "          ( SELECT SUM(Deaths) AS total FROM covid WHERE Province_State != \"New York\")          \n",
    "          AS DECIMAL(8,2) \n",
    "        )         \n",
    "    AS New_York_Deaths_Percent\n",
    "FROM covid \n",
    "WHERE Province_State == \"New York\"\n",
    "\"\"\"\n",
    "df2 = spark.sql(SQL)\n",
    "df2.show(10, False)"
   ]
  },
  {
   "cell_type": "code",
   "execution_count": null,
   "metadata": {},
   "outputs": [],
   "source": []
  },
  {
   "cell_type": "code",
   "execution_count": null,
   "metadata": {},
   "outputs": [],
   "source": []
  }
 ],
 "metadata": {
  "kernelspec": {
   "display_name": "Python 3",
   "language": "python",
   "name": "python3"
  },
  "language_info": {
   "codemirror_mode": {
    "name": "ipython",
    "version": 3
   },
   "file_extension": ".py",
   "mimetype": "text/x-python",
   "name": "python",
   "nbconvert_exporter": "python",
   "pygments_lexer": "ipython3",
   "version": "3.7.3"
  }
 },
 "nbformat": 4,
 "nbformat_minor": 4
}
