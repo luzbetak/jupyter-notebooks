{
 "cells": [
  {
   "cell_type": "code",
   "execution_count": 1,
   "metadata": {},
   "outputs": [],
   "source": [
    "# !python3 -m pip install urllib3\n",
    "import pyspark\n",
    "import urllib3 \n",
    "# sc.setLogLevel(\"ERROR\")"
   ]
  },
  {
   "cell_type": "code",
   "execution_count": 2,
   "metadata": {},
   "outputs": [
    {
     "name": "stdout",
     "output_type": "stream",
     "text": [
      "Archive:  foia_up_to_150k_CA.csv.zip\n",
      "  inflating: foia_up_to_150k_CA.csv  \n"
     ]
    }
   ],
   "source": [
    "!unzip -o \"foia_up_to_150k_CA.csv.zip\""
   ]
  },
  {
   "cell_type": "code",
   "execution_count": 3,
   "metadata": {},
   "outputs": [],
   "source": [
    "df = spark.read.csv('foia_up_to_150k_CA.csv', header='true')"
   ]
  },
  {
   "cell_type": "code",
   "execution_count": 4,
   "metadata": {},
   "outputs": [
    {
     "name": "stdout",
     "output_type": "stream",
     "text": [
      "<class 'pyspark.sql.dataframe.DataFrame'>\n",
      "root\n",
      " |-- LoanAmount: string (nullable = true)\n",
      " |-- City: string (nullable = true)\n",
      " |-- State: string (nullable = true)\n",
      " |-- Zip: string (nullable = true)\n",
      " |-- NAICSCode: string (nullable = true)\n",
      " |-- BusinessType: string (nullable = true)\n",
      " |-- RaceEthnicity: string (nullable = true)\n",
      " |-- Gender: string (nullable = true)\n",
      " |-- Veteran: string (nullable = true)\n",
      " |-- NonProfit: string (nullable = true)\n",
      " |-- JobsRetained: string (nullable = true)\n",
      " |-- DateApproved: string (nullable = true)\n",
      " |-- Lender: string (nullable = true)\n",
      " |-- CD: string (nullable = true)\n",
      "\n"
     ]
    }
   ],
   "source": [
    "print(type(df))\n",
    "df.printSchema()"
   ]
  },
  {
   "cell_type": "code",
   "execution_count": 5,
   "metadata": {},
   "outputs": [],
   "source": [
    "# df.sample(False, 0.5, 42).count()"
   ]
  },
  {
   "cell_type": "code",
   "execution_count": 6,
   "metadata": {},
   "outputs": [],
   "source": [
    "df.createOrReplaceTempView(\"ppp_loans\")"
   ]
  },
  {
   "cell_type": "code",
   "execution_count": 7,
   "metadata": {},
   "outputs": [
    {
     "name": "stdout",
     "output_type": "stream",
     "text": [
      "+-------------+----------+\n",
      "|City         |Total     |\n",
      "+-------------+----------+\n",
      "|LOS ANGELES  |1328297523|\n",
      "|SAN DIEGO    |692542458 |\n",
      "|SAN FRANCISCO|649479504 |\n",
      "|SAN JOSE     |392459203 |\n",
      "|SACRAMENTO   |275194689 |\n",
      "|IRVINE       |238990049 |\n",
      "|FRESNO       |216450305 |\n",
      "|OAKLAND      |187579566 |\n",
      "|BAKERSFIELD  |163561453 |\n",
      "|ANAHEIM      |154066578 |\n",
      "|LONG BEACH   |151886627 |\n",
      "|BEVERLY HILLS|141096028 |\n",
      "|SANTA ANA    |140558559 |\n",
      "|TORRANCE     |140127322 |\n",
      "|PASADENA     |135714518 |\n",
      "|SANTA MONICA |133528543 |\n",
      "|RIVERSIDE    |130004758 |\n",
      "|NEWPORT BEACH|128681724 |\n",
      "|GLENDALE     |128547103 |\n",
      "|SANTA BARBARA|122765086 |\n",
      "+-------------+----------+\n",
      "only showing top 20 rows\n",
      "\n"
     ]
    }
   ],
   "source": [
    "SQL = \"\"\"\n",
    "SELECT City,   \n",
    "    CAST(\n",
    "          SUM(LoanAmount)       \n",
    "          AS INT\n",
    "        )         \n",
    "    AS Total\n",
    "FROM ppp_loans\n",
    "GROUP BY City\n",
    "ORDER BY Total DESC\n",
    "\n",
    "\"\"\"\n",
    "\n",
    "df1 = spark.sql(SQL)\n",
    "df1.show(20, False)"
   ]
  },
  {
   "cell_type": "code",
   "execution_count": null,
   "metadata": {},
   "outputs": [],
   "source": []
  }
 ],
 "metadata": {
  "kernelspec": {
   "display_name": "Python 3",
   "language": "python",
   "name": "python3"
  },
  "language_info": {
   "codemirror_mode": {
    "name": "ipython",
    "version": 3
   },
   "file_extension": ".py",
   "mimetype": "text/x-python",
   "name": "python",
   "nbconvert_exporter": "python",
   "pygments_lexer": "ipython3",
   "version": "3.7.3"
  }
 },
 "nbformat": 4,
 "nbformat_minor": 4
}
