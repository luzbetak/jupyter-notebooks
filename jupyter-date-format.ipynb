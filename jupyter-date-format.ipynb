spark.sql("""
          SELECT 
          DATE_FORMAT (CAST(TO_DATE(CAST("1901-12-25" AS DATE), 'yyyy-MM-dd') AS DATE), 'MM/dd/yyyy') AS DOB
""").show(truncate=False)    
