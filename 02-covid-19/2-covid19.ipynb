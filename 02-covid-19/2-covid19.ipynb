{
 "cells": [
  {
   "cell_type": "code",
   "execution_count": 1,
   "metadata": {},
   "outputs": [],
   "source": [
    "import pyspark\n",
    "sc.setLogLevel(\"ERROR\")"
   ]
  },
  {
   "cell_type": "code",
   "execution_count": 2,
   "metadata": {},
   "outputs": [],
   "source": [
    "df = spark.read.csv('*.csv', header='true')"
   ]
  },
  {
   "cell_type": "code",
   "execution_count": 3,
   "metadata": {},
   "outputs": [
    {
     "name": "stdout",
     "output_type": "stream",
     "text": [
      "<class 'pyspark.sql.dataframe.DataFrame'>\n",
      "root\n",
      " |-- Province_State: string (nullable = true)\n",
      " |-- Country_Region: string (nullable = true)\n",
      " |-- Last_Update: string (nullable = true)\n",
      " |-- Lat: string (nullable = true)\n",
      " |-- Long_: string (nullable = true)\n",
      " |-- Confirmed: string (nullable = true)\n",
      " |-- Deaths: string (nullable = true)\n",
      " |-- Recovered: string (nullable = true)\n",
      " |-- Active: string (nullable = true)\n",
      " |-- FIPS: string (nullable = true)\n",
      " |-- Incident_Rate: string (nullable = true)\n",
      " |-- People_Tested: string (nullable = true)\n",
      " |-- People_Hospitalized: string (nullable = true)\n",
      " |-- Mortality_Rate: string (nullable = true)\n",
      " |-- UID: string (nullable = true)\n",
      " |-- ISO3: string (nullable = true)\n",
      " |-- Testing_Rate: string (nullable = true)\n",
      " |-- Hospitalization_Rate: string (nullable = true)\n",
      "\n"
     ]
    }
   ],
   "source": [
    "print(type(df))\n",
    "df.printSchema()"
   ]
  },
  {
   "cell_type": "code",
   "execution_count": 4,
   "metadata": {},
   "outputs": [],
   "source": [
    "df.createOrReplaceTempView(\"covid\")"
   ]
  },
  {
   "cell_type": "code",
   "execution_count": 5,
   "metadata": {},
   "outputs": [
    {
     "name": "stdout",
     "output_type": "stream",
     "text": [
      "+--------------+---------------+------------------+------------+\n",
      "|Province_State|Total_Recovered|Total_Hospitalized|Total_Deaths|\n",
      "+--------------+---------------+------------------+------------+\n",
      "|New York      |140922         |179990            |63435       |\n",
      "|New Jersey    |60376          |39694             |30027       |\n",
      "|Florida       |null           |29530             |6952        |\n",
      "|Massachusetts |null           |22682             |16147       |\n",
      "|Georgia       |null           |21875             |5589        |\n",
      "|Maryland      |9961           |21666             |6365        |\n",
      "|Connecticut   |16106          |20536             |8642        |\n",
      "|Virginia      |16103          |17805             |3503        |\n",
      "|Ohio          |null           |15585             |5681        |\n",
      "|Indiana       |68994          |14089             |5264        |\n",
      "+--------------+---------------+------------------+------------+\n",
      "\n"
     ]
    }
   ],
   "source": [
    "SQL = \"\"\"\n",
    "SELECT Province_State\n",
    "          , CAST(SUM(Recovered) AS INT) Total_Recovered\n",
    "          , CAST(SUM(People_Hospitalized) AS INT) AS Total_Hospitalized\n",
    "          , CAST(SUM(Deaths) AS INT) AS Total_Deaths\n",
    "FROM covid \n",
    "WHERE Province_State != \"Recovered\"\n",
    "GROUP BY Province_State\n",
    "ORDER BY Total_Hospitalized DESC\n",
    "LIMIT 10\n",
    "\"\"\"\n",
    "\n",
    "df1 = spark.sql(SQL)\n",
    "df1.show(10, False)"
   ]
  },
  {
   "cell_type": "code",
   "execution_count": 6,
   "metadata": {},
   "outputs": [
    {
     "name": "stdout",
     "output_type": "stream",
     "text": [
      "+-----------------------+\n",
      "|New_York_Deaths_Percent|\n",
      "+-----------------------+\n",
      "|25.02                  |\n",
      "+-----------------------+\n",
      "\n"
     ]
    }
   ],
   "source": [
    "SQL = \"\"\"\n",
    "SELECT     \n",
    "    CAST(\n",
    "          SUM(Deaths) * 100 /  \n",
    "          ( SELECT SUM(Deaths) AS total FROM covid )          \n",
    "          AS DECIMAL(8,2) \n",
    "        )         \n",
    "    AS New_York_Deaths_Percent\n",
    "FROM covid \n",
    "WHERE Province_State == \"New York\"\n",
    "\"\"\"\n",
    "df2 = spark.sql(SQL)\n",
    "df2.show(10, False)"
   ]
  },
  {
   "cell_type": "code",
   "execution_count": null,
   "metadata": {},
   "outputs": [],
   "source": []
  },
  {
   "cell_type": "code",
   "execution_count": null,
   "metadata": {},
   "outputs": [],
   "source": []
  }
 ],
 "metadata": {
  "kernelspec": {
   "display_name": "Python 3",
   "language": "python",
   "name": "python3"
  },
  "language_info": {
   "codemirror_mode": {
    "name": "ipython",
    "version": 3
   },
   "file_extension": ".py",
   "mimetype": "text/x-python",
   "name": "python",
   "nbconvert_exporter": "python",
   "pygments_lexer": "ipython3",
   "version": "3.9.4"
  }
 },
 "nbformat": 4,
 "nbformat_minor": 4
}
