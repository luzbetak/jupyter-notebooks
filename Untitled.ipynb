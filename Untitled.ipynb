{
 "cells": [
  {
   "cell_type": "code",
   "execution_count": 1,
   "metadata": {},
   "outputs": [],
   "source": [
    "import folium\n",
    "import pandas as pd"
   ]
  },
  {
   "cell_type": "code",
   "execution_count": 2,
   "metadata": {},
   "outputs": [],
   "source": [
    "#Importing the dataset\n",
    "earthquakes = pd.read_csv('http://earthquake.usgs.gov/earthquakes/feed/v1.0/summary/all_day.csv')"
   ]
  },
  {
   "cell_type": "code",
   "execution_count": 5,
   "metadata": {},
   "outputs": [
    {
     "name": "stdout",
     "output_type": "stream",
     "text": [
      "                         time   latitude   longitude   depth   mag magType  \\\n",
      "0    2020-06-14T22:00:54.980Z  38.162300 -117.977300    1.30  1.10      ml   \n",
      "1    2020-06-14T21:51:32.590Z  35.806500 -117.612000    9.79  1.29      ml   \n",
      "2    2020-06-14T21:46:07.182Z  63.210900 -150.410500  116.50  1.20      ml   \n",
      "3    2020-06-14T21:45:39.980Z  33.227333 -116.731833   11.62  0.73      ml   \n",
      "4    2020-06-14T21:44:09.430Z  38.164000 -117.970500    5.40  0.70      ml   \n",
      "..                        ...        ...         ...     ...   ...     ...   \n",
      "361  2020-06-13T22:55:17.440Z  38.129200 -117.945000    5.10  1.20      ml   \n",
      "362  2020-06-13T22:47:41.770Z  35.900333 -117.708000    2.92  2.42      ml   \n",
      "363  2020-06-13T22:46:13.210Z  38.183200 -117.809500   13.60  1.40      ml   \n",
      "364  2020-06-13T22:35:44.840Z  38.128000 -118.117500    0.20  1.00      ml   \n",
      "365  2020-06-13T22:31:18.410Z  17.936100  -66.944300   12.00  3.58      md   \n",
      "\n",
      "      nst     gap     dmin   rms  ...                   updated  \\\n",
      "0    11.0   81.68  0.03300  0.04  ...  2020-06-14T22:13:54.229Z   \n",
      "1    21.0   92.00  0.01496  0.16  ...  2020-06-14T21:55:15.829Z   \n",
      "2     NaN     NaN      NaN  0.11  ...  2020-06-14T21:52:14.440Z   \n",
      "3    21.0   48.00  0.07626  0.25  ...  2020-06-14T21:49:24.950Z   \n",
      "4    10.0  116.72  0.03200  0.00  ...  2020-06-14T21:49:52.545Z   \n",
      "..    ...     ...      ...   ...  ...                       ...   \n",
      "361  10.0  118.58  0.03300  0.01  ...  2020-06-13T23:12:25.371Z   \n",
      "362  28.0   42.00  0.06664  0.22  ...  2020-06-13T22:58:53.310Z   \n",
      "363  12.0   68.97  0.05500  0.12  ...  2020-06-13T22:49:27.111Z   \n",
      "364  13.0  136.04  0.06500  0.08  ...  2020-06-13T22:47:45.446Z   \n",
      "365  24.0  210.00  0.07590  0.14  ...  2020-06-14T00:32:45.575Z   \n",
      "\n",
      "                                         place        type horizontalError  \\\n",
      "0                    27 km SSE of Mina, Nevada  earthquake             NaN   \n",
      "1               19km WNW of Searles Valley, CA  earthquake            0.30   \n",
      "2    75 km ESE of Denali National Park, Alaska  earthquake             NaN   \n",
      "3                  3km ESE of Lake Henshaw, CA  earthquake            0.42   \n",
      "4                    27 km SSE of Mina, Nevada  earthquake             NaN   \n",
      "..                                         ...         ...             ...   \n",
      "361                  32 km SSE of Mina, Nevada  earthquake             NaN   \n",
      "362                18km ESE of Little Lake, CA  earthquake            0.26   \n",
      "363                   34 km SE of Mina, Nevada  earthquake             NaN   \n",
      "364                    29 km S of Mina, Nevada  earthquake             NaN   \n",
      "365            5 km SW of Guánica, Puerto Rico  earthquake            0.66   \n",
      "\n",
      "    depthError  magError  magNst     status  locationSource magSource  \n",
      "0         1.00       NaN     NaN  automatic              nn        nn  \n",
      "1         0.54     0.191    19.0  automatic              ci        ci  \n",
      "2         2.40       NaN     NaN  automatic              ak        ak  \n",
      "3         0.97     0.177    11.0  automatic              ci        ci  \n",
      "4         0.90       NaN     NaN  automatic              nn        nn  \n",
      "..         ...       ...     ...        ...             ...       ...  \n",
      "361       1.90       NaN     NaN  automatic              nn        nn  \n",
      "362       1.24     0.165    25.0  automatic              ci        ci  \n",
      "363       1.00       NaN     NaN  automatic              nn        nn  \n",
      "364      10.10       NaN     NaN  automatic              nn        nn  \n",
      "365       0.37     0.130    22.0   reviewed              pr        pr  \n",
      "\n",
      "[366 rows x 22 columns]\n"
     ]
    }
   ],
   "source": [
    "print(earthquakes)"
   ]
  },
  {
   "cell_type": "code",
   "execution_count": null,
   "metadata": {},
   "outputs": [],
   "source": []
  }
 ],
 "metadata": {
  "kernelspec": {
   "display_name": "Python 3",
   "language": "python",
   "name": "python3"
  },
  "language_info": {
   "codemirror_mode": {
    "name": "ipython",
    "version": 3
   },
   "file_extension": ".py",
   "mimetype": "text/x-python",
   "name": "python",
   "nbconvert_exporter": "python",
   "pygments_lexer": "ipython3",
   "version": "3.7.3"
  }
 },
 "nbformat": 4,
 "nbformat_minor": 4
}
